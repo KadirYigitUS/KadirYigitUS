{
  "cells": [
    {
      "cell_type": "markdown",
      "metadata": {
        "id": "view-in-github",
        "colab_type": "text"
      },
      "source": [
        "<a href=\"https://colab.research.google.com/github/KadirYigitUS/KadirYigitUS/blob/main/rastlant%C4%B1sal_%C3%A7arpma.ipynb\" target=\"_parent\"><img src=\"https://colab.research.google.com/assets/colab-badge.svg\" alt=\"Open In Colab\"/></a>"
      ]
    },
    {
      "cell_type": "code",
      "execution_count": null,
      "id": "348e73d5",
      "metadata": {
        "id": "348e73d5"
      },
      "outputs": [],
      "source": [
        "# Bu ufak yazılım, Asal Sayılar, Çift Sayılar ve Tek Sayılar \n",
        "# olarak tanımlanmış sayı kümelerinde çarpım işlemi gerçekleştirir.\n",
        "\n",
        "# İlgili sayı kümelerini aşağıda görebilirsiniz.\n",
        "# Ana fonksiyon seçilen iki küme arasında belli tekrar sayısında çarpım yapar.\n",
        "\n",
        "# Kullanıcı üç kümeden iki küme arasında seçim yapar ve tekrar sayısını girer.\n",
        "# Fonksiyon kullanıcının belirttiği kümelerden rastlantısal olarak birer sayı seçer.\n",
        "# Seçtiği sayıları çarpar ve işlemlerin her basamağını kullanıcıya bildirir.\n",
        "\n",
        "# Kullanıcıya 3. seçim basamağında, tekrar sayısını girerken yazılımdan çıkma şansı sunulmuştur."
      ]
    },
    {
      "cell_type": "code",
      "execution_count": null,
      "id": "e254a491",
      "metadata": {
        "id": "e254a491"
      },
      "outputs": [],
      "source": [
        "import random #Bu yazılım için gerekli rastlantı kütüphanesinin yüklenmesi"
      ]
    },
    {
      "cell_type": "code",
      "execution_count": null,
      "id": "bf18f957",
      "metadata": {
        "id": "bf18f957"
      },
      "outputs": [],
      "source": [
        "# sayı kümeleri\n",
        "sayilar = {\n",
        "    1: [2, 3, 5, 7, 11, 13, 17],\n",
        "    2: [0, 2, 4, 6, 8, 10],\n",
        "    3: [1, 3, 5, 7, 9, 11],\n",
        "}\n"
      ]
    },
    {
      "cell_type": "code",
      "execution_count": null,
      "id": "60b21b60",
      "metadata": {
        "id": "60b21b60"
      },
      "outputs": [],
      "source": [
        "#Ana fonksiyon\n",
        "\n",
        "def main():\n",
        "\n",
        "#fonksiyon üç liste arasında seçim yapmayı isteyecek. Ardından kaç kere çarpım yapılacağını soracak.\n",
        "#Tekrar sayısı olarak 0 girilirse Boolean değer False olacak ve döngü sonlanacak.\n",
        "\n",
        "    while True:\n",
        "\n",
        "    #Aşağıda try döngüsünde kullanıcı girişlerinde seçeneklerde sunulan sayılardan başkası girildiğinde \n",
        "    #yazılım hata verip başa dönecek.\n",
        "        try: \n",
        "            # 1. Sayı kümesi seçimi.\n",
        "            sayi1 = int(input(\"hangi sayilari carpmak istersiniz? 1- Asal Sayi 2- çift sayı 3 - tek sayi\"))\n",
        "            if sayi1 > 3:\n",
        "                print(f\"{sayi1} girdiniz. Baştan alalım\")\n",
        "                continue\n",
        "            \n",
        "            # 2. Sayı kümesi seçimi.\n",
        "            sayi2 = int(input(\"hangi sayilari carpmak istersiniz? 1- Asal Sayi 2- çift sayı 3 - tek sayi\"))\n",
        "            if sayi2 > 3:\n",
        "                print(f\"{sayi2} girdiniz. Baştan alalım.\")\n",
        "                continue\n",
        "            \n",
        "            # Çarpma işleminin kaç kere yapılacağı.\n",
        "            tekrar = int(input(\"Kaç kere rastlantısal sayı çarpalım? Çıkmak için 0 giriniz: \"))\n",
        "        \n",
        "        except:\n",
        "            print(\"Lütfen geçerli bir giriş yapınız. Baştan alalım\")\n",
        "            continue\n",
        "            #geçerli sayılar dışındaki girişler oldu mu döngü başa alıyor.\n",
        "\n",
        "\n",
        "        #Yazılımdan çıkış için tekrar sayısı olarak sıfır girilebilir    \n",
        "        if tekrar == 0:\n",
        "            print(\"İyi günler!\")\n",
        "            False\n",
        "        \n",
        "        #Tekrar sayısı kadar döngü üretmek için range 1'den başlatıldı ve \"tekrar+1\" değerine ilerletildi.\n",
        "        for i in range(1, tekrar+1):\n",
        "            print(f\"\\n{i}. Çarpım\\n\")\n",
        "            \n",
        "            liste_uzun1 = len(sayilar[sayi1]) #Kullanıcının ilk tercih ettiği kümenin uzunluğu\n",
        "            print(f\"{sayi1}. liste uzunluğu ne? {liste_uzun1}\") \n",
        "            \n",
        "            secim1 = random.randint(1, len(sayilar[sayi1])) #Rastlantısal liste sırası üreteci\n",
        "            print(f\"ilk rastlantısal liste sırası ne? {secim1}\")\n",
        "            \n",
        "            #Çarpma sayısını bulmak için seçimden 1 çıkartılıyor ve endeks değerine dönüşüyor\n",
        "            carpma_sayisi_1 = sayilar[sayi1][secim1-1] \n",
        "            print(f\"{sayi1}. listeden hangi sayı seçildi? {carpma_sayisi_1}\")\n",
        "            \n",
        "            liste_uzun2 = len(sayilar[sayi2]) #Kullanıcının ikinci tercih ettiği kümenin uzunluğu\n",
        "            print(f\"{sayi2}. liste uzunluğu ne? {liste_uzun2}\")\n",
        "\n",
        "            \n",
        "            secim2 = random.randint(1, len(sayilar[sayi2])) #Rastlantısal liste sırası üreteci\n",
        "            print(f\"İkinci rastlantısal liste sırası ne? {secim2}\")\n",
        "\n",
        "            #Çarpma sayısını bulmak için seçimden 1 çıkartılıyor ve endeks değerine dönüşüyor\n",
        "            carpma_sayisi_2 = sayilar[sayi2][secim2-1]\n",
        "            print(f\"{sayi1}. listeden hangi sayı seçildi? {carpma_sayisi_2}\")\n",
        "\n",
        "            #Rastlantısal seçilen sayıların çarpım sonucunın hesaplanması ve kullanıcıya sunulması\n",
        "            carpim = carpma_sayisi_1 * carpma_sayisi_2\n",
        "            print(f\"{carpma_sayisi_1} * {carpma_sayisi_2} = {carpim}\")\n",
        "    return carpim #Dışa değer aktarmıyoruz ama yine de bu satırı ekledim.\n",
        "        \n",
        "    "
      ]
    },
    {
      "cell_type": "code",
      "execution_count": null,
      "id": "742b4a04",
      "metadata": {
        "id": "742b4a04"
      },
      "outputs": [],
      "source": [
        "main()"
      ]
    }
  ],
  "metadata": {
    "kernelspec": {
      "display_name": "Python 3 (ipykernel)",
      "language": "python",
      "name": "python3"
    },
    "language_info": {
      "codemirror_mode": {
        "name": "ipython",
        "version": 3
      },
      "file_extension": ".py",
      "mimetype": "text/x-python",
      "name": "python",
      "nbconvert_exporter": "python",
      "pygments_lexer": "ipython3",
      "version": "3.10.2"
    },
    "colab": {
      "name": "rastlantısal çarpma.ipynb",
      "provenance": [],
      "collapsed_sections": [],
      "include_colab_link": true
    }
  },
  "nbformat": 4,
  "nbformat_minor": 5
}